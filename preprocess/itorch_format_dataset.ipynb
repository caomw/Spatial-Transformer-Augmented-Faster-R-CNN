{
 "cells": [
  {
   "cell_type": "code",
   "execution_count": 4,
   "metadata": {
    "collapsed": true
   },
   "outputs": [],
   "source": [
    "local torch = require 'torch'\n",
    "require 'hdf5'\n",
    "require 'image'\n",
    "\n",
    "base_path = '/media/wei/DATA/datasets/vlm/'\n",
    "\n",
    "img_size = {}\n",
    "img_size['H'] = 58\n",
    "img_size['W'] = 58"
   ]
  },
  {
   "cell_type": "code",
   "execution_count": 5,
   "metadata": {
    "collapsed": false
   },
   "outputs": [
    {
     "data": {
      "text/plain": [
       "600719\t27563\t\n"
      ]
     },
     "execution_count": 5,
     "metadata": {},
     "output_type": "execute_result"
    }
   ],
   "source": [
    "--loading hdf5 data of training examples\n",
    "dataset_size = 'large'\n",
    "train_file = hdf5.open(base_path .. 'subgestures/ASL_hand_train_' .. dataset_size .. '.hdf5', 'r')\n",
    "X_train = train_file:read('X_train'):all()\n",
    "y_train = train_file:read('y_train'):all()\n",
    "train_file:close()\n",
    "\n",
    "N_train = X_train:size(1)\n",
    "trainset = {};\n",
    "-- resize to a good size for input to NN\n",
    "trainset.data = torch.ByteTensor(N_train,3,img_size['H'],img_size['W']):zero()\n",
    "trainset.label = torch.ByteTensor(N_train,1):zero()\n",
    "function trainset:size() \n",
    "    return self.data:size(1) \n",
    "end\n",
    "for i=1,trainset:size() do \n",
    "  -- trainset.data[i] = image.scale(X_train[i], img_size['H'], img_size['W']):byte()\n",
    "  trainset.data[i] = X_train[i]\n",
    "  trainset.label[i] = y_train[i] + 1\n",
    "end\n",
    "tmp1 = 0\n",
    "tmp2 = 0\n",
    "for i=1,trainset:size() do \n",
    "    if y_train[i] == 1 then\n",
    "        tmp1 = tmp1 + 1\n",
    "    else\n",
    "        tmp2 = tmp2 + 1\n",
    "    end\n",
    "end\n",
    "print(tmp1, tmp2)\n",
    "-- save prepceossed dataset into t7\n",
    "out_path = base_path .. 'subgestures/' .. 'ASL_torch_hand_train_' .. dataset_size .. '.t7'\n",
    "torch.save(out_path, trainset)"
   ]
  },
  {
   "cell_type": "code",
   "execution_count": 3,
   "metadata": {
    "collapsed": false
   },
   "outputs": [
    {
     "data": {
      "text/plain": [
       "12501\t13775\t\n"
      ]
     },
     "execution_count": 3,
     "metadata": {},
     "output_type": "execute_result"
    }
   ],
   "source": [
    "--Validation set\n",
    "--loading hdf5 data of validation examples\n",
    "val_file = hdf5.open(base_path .. 'subgestures/ASL_hand_val.hdf5', 'r')\n",
    "X_val = val_file:read('X_val'):all()\n",
    "y_val = val_file:read('y_val'):all()\n",
    "val_file:close()\n",
    "\n",
    "N_val = X_val:size(1)\n",
    "\n",
    "-- name validation test to testset for easier programming in torch\n",
    "testset = {};\n",
    "-- resize to a good size for input to NN\n",
    "testset.data = torch.ByteTensor(N_val,3,img_size['H'],img_size['W']):zero()\n",
    "testset.label = torch.ByteTensor(N_val,1):zero()\n",
    "function testset:size() \n",
    "    return self.data:size(1) \n",
    "end\n",
    "for i=1,testset:size() do \n",
    "  --valset.data[i] = image.scale(X_val[i], img_size['H'], img_size['W']):byte()\n",
    "  testset.data[i] = X_val[i]\n",
    "  testset.label[i] = y_val[i] + 1\n",
    "end\n",
    "tmp1 = 0\n",
    "tmp2 = 0\n",
    "for i=1,testset:size() do \n",
    "    if y_val[i] == 1 then\n",
    "        tmp1 = tmp1 + 1\n",
    "    else\n",
    "        tmp2 = tmp2 + 1\n",
    "    end\n",
    "end\n",
    "print(tmp1, tmp2)\n",
    "-- save prepceossed dataset into t7\n",
    "out_path = base_path .. 'subgestures/' .. 'ASL_torch_hand_val.t7'\n",
    "torch.save(out_path, testset)"
   ]
  },
  {
   "cell_type": "code",
   "execution_count": 2,
   "metadata": {
    "collapsed": false
   },
   "outputs": [],
   "source": [
    "--Test set\n",
    "--loading hdf5 data of test examples\n",
    "test_file = hdf5.open(base_path .. 'subgestures/ASL_hand_test_gb1113.hdf5', 'r')\n",
    "X_test = test_file:read('X_test'):all()\n",
    "y_test = test_file:read('y_test'):all()\n",
    "test_file:close()\n",
    "\n",
    "N_test = X_test:size(1)\n",
    "testset = {};\n",
    "-- resize to a good size for input to NN\n",
    "testset.data = torch.ByteTensor(N_test,3,img_size['H'],img_size['W']):zero()\n",
    "testset.label = torch.ByteTensor(N_test,1):zero()\n",
    "function testset:size() \n",
    "    return self.data:size(1) \n",
    "end\n",
    "for i=1,testset:size() do \n",
    "  --testset.data[i] = image.scale(X_test[i], img_size['H'], img_size['W']):byte()\n",
    "  testset.data[i] = X_test[i]\n",
    "  testset.label[i] = y_test[i] + 1\n",
    "end\n",
    "-- save prepceossed dataset into t7\n",
    "out_path = base_path .. 'subgestures/' .. 'ASL_torch_hand_test_gb1113.t7'\n",
    "torch.save(out_path, testset)"
   ]
  },
  {
   "cell_type": "code",
   "execution_count": 6,
   "metadata": {
    "collapsed": false
   },
   "outputs": [
    {
     "data": {
      "text/plain": [
       "N_samples:26276\t\n"
      ]
     },
     "execution_count": 6,
     "metadata": {},
     "output_type": "execute_result"
    },
    {
     "data": {
      "image/png": "[encoded data removed]",
      "text/plain": [
       "Console does not support images"
      ]
     },
     "metadata": {
      "image/png": {
       "height": 58,
       "width": 58
      }
     },
     "output_type": "display_data"
    }
   ],
   "source": [
    "valset = torch.load(base_path .. 'subgestures/' .. 'ASL_torch_hand_val.t7')\n",
    "print('N_samples:' .. valset.data:size(1))\n",
    "itorch.image(valset.data[1])"
   ]
  },
  {
   "cell_type": "code",
   "execution_count": 7,
   "metadata": {
    "collapsed": true
   },
   "outputs": [],
   "source": [
    "-- save model"
   ]
  }
 ],
 "metadata": {
  "kernelspec": {
   "display_name": "iTorch",
   "language": "lua",
   "name": "itorch"
  },
  "language_info": {
   "name": "lua",
   "version": "5.1"
  }
 },
 "nbformat": 4,
 "nbformat_minor": 0
}
