{
 "cells": [
  {
   "cell_type": "code",
   "execution_count": 1,
   "metadata": {
    "collapsed": false
   },
   "outputs": [],
   "source": [
    "local torch = require 'torch'\n",
    "require 'hdf5'\n",
    "require 'image'\n",
    "require 'utilities'\n",
    "require 'Rect' \n",
    "require 'lfs'\n",
    "require 'LuaXML'\n",
    "\n",
    "ASL_BASE_DIR = '/media/wei/DATA/datasets/vlm/snaps/'\n",
    "ASL_ANNO_DIR = '/media/wei/DATA/datasets/vlm/annotations/'\n",
    "\n",
    "img_size = {}\n",
    "img_size['H'] = 58\n",
    "img_size['W'] = 58\n",
    "\n",
    "ground_truth = {}\n",
    "\n",
    "class_names = {}\n",
    "class_names[1] = 'Hand'\n",
    "class_index = {}\n",
    "class_index['Hand'] = 1"
   ]
  },
  {
   "cell_type": "code",
   "execution_count": null,
   "metadata": {
    "collapsed": false
   },
   "outputs": [],
   "source": [
    "require 'csvigo'\n",
    "\n",
    "-- format of csv file:\n",
    "-- image id, image path, hand type, left, top, width, height (left hand), left, top, width, height (right hand),\n",
    "function import_file(dataset_name, trainset, testset)\n",
    "    local m = csvigo.load({path = ASL_ANNO_DIR..'det_GT_'..dataset_name..'.csv', mode = 'large'})\n",
    "    local name = 'Hand'\n",
    "    \n",
    "    print(('%d rows loaded'):format(tostring(#m)))\n",
    "\n",
    "\n",
    "    --format rows: convert coordinates from string to tensor\n",
    "    local ROI = torch.IntTensor(#m, 8):zero()\n",
    "--     print('First row:')\n",
    "--     print(m[1]) -- get element\n",
    "    \n",
    "    local indices = {}\n",
    "    for i=1,#m do \n",
    "        indices[#indices+1] = i\n",
    "    end\n",
    "    shuffle(indices)\n",
    "    local train_num = math.floor(#indices * 0.8)\n",
    "    \n",
    "    for ind=1, #indices do\n",
    "        \n",
    "        local i = indices[ind]\n",
    "        \n",
    "        local cnt = 1\n",
    "        coord = string.sub(m[i][4], 2, -2) -- strip parenthesis\n",
    "        for word in string.gmatch(coord, '([^,]+)') do\n",
    "\n",
    "            ROI[i][cnt] = tonumber(word) -- is +1 necessary?\n",
    "            cnt = cnt + 1\n",
    "        end\n",
    "        \n",
    "        local l_rect = {}\n",
    "        local r_rect = {}\n",
    "        local rois = {}\n",
    "        \n",
    "        local type = tonumber(m[i][3])\n",
    "        if type == 1 then  -- only left hand (rarely used)\n",
    "            l_rect = Rect.new(ROI[i][1], ROI[i][2], ROI[i][1] + ROI[i][3], ROI[i][2] + ROI[i][4])\n",
    "            table.insert(rois, {rect = l_rect, class_index = class_index[name], class_name = name})\n",
    "        elseif type == 2 then -- only right hand\n",
    "            r_rect = Rect.new(ROI[i][5], ROI[i][6], ROI[i][5] + ROI[i][7], ROI[i][6] + ROI[i][8])\n",
    "            table.insert(rois, {rect = r_rect, class_index = class_index[name], class_name = name})\n",
    "        elseif type == 3 then -- both hands\n",
    "            l_rect = Rect.new(ROI[i][1], ROI[i][2], ROI[i][1] + ROI[i][3], ROI[i][2] + ROI[i][4])\n",
    "            r_rect = Rect.new(ROI[i][5], ROI[i][6], ROI[i][5] + ROI[i][7], ROI[i][6] + ROI[i][8])\n",
    "            table.insert(rois, {rect = l_rect, class_index = class_index[name], class_name = name})\n",
    "            table.insert(rois, {rect = r_rect, class_index = class_index[name], class_name = name})\n",
    "        elseif type == 0 then -- no/bad annotation\n",
    "        else\n",
    "            error('Hand type not supported!')\n",
    "        end\n",
    "\n",
    "        local image_path = m[i][2]\n",
    "        if ind <= train_num then\n",
    "            table.insert(trainset, image_path)\n",
    "        else\n",
    "            table.insert(testset, image_path)\n",
    "        end\n",
    "        \n",
    "        ground_truth[image_path] = { image_file_name = image_path, rois = rois }\n",
    "    end\n",
    "end\n"
   ]
  },
  {
   "cell_type": "code",
   "execution_count": null,
   "metadata": {
    "collapsed": true
   },
   "outputs": [],
   "source": [
    "function create_ground_truth_file(dataset_name, background_folders, output_fn)\n",
    "    --loading csv files of GT information from training set\n",
    "    local trainset = {}\n",
    "    local testset = {}\n",
    "\n",
    "    import_file('train', trainset, testset)\n",
    "    \n",
    "    print('Ground truth number: '..tablelength(ground_truth))\n",
    "    print('Training set number: '..#trainset)\n",
    "    print('test set number: '..#testset)\n",
    "    \n",
    "    local file_names = keys(ground_truth)\n",
    "    -- compile list of background images\n",
    "    local background_files = {}\n",
    "\n",
    "    print(string.format('Total images: %d; classes: %d; train_set: %d; validation_set: %d; (Background: %d)', \n",
    "    #file_names, #class_names, #trainset, #testset, #background_files\n",
    "    ))\n",
    "\n",
    "    save_obj(\n",
    "        output_fn,\n",
    "        {\n",
    "          dataset_name = dataset_name,\n",
    "          ground_truth = ground_truth,\n",
    "          training_set = trainset,\n",
    "          validation_set = testset,\n",
    "          class_names = class_names,\n",
    "          class_index = class_index,\n",
    "          background_files = background_files\n",
    "        }\n",
    "    )\n",
    "    print('Done.')\n",
    "end"
   ]
  },
  {
   "cell_type": "code",
   "execution_count": null,
   "metadata": {
    "collapsed": false
   },
   "outputs": [],
   "source": [
    "local background_folders = {}\n",
    "\n",
    "create_ground_truth_file(\n",
    "  'ASL',\n",
    "  background_folders,\n",
    "  ASL_ANNO_DIR..'ASL_det_test.t7'\n",
    ")"
   ]
  },
  {
   "cell_type": "code",
   "execution_count": 2,
   "metadata": {
    "collapsed": true
   },
   "outputs": [],
   "source": [
    "stored = load_obj(ASL_ANNO_DIR..'ASL_det_test.t7')"
   ]
  },
  {
   "cell_type": "code",
   "execution_count": 10,
   "metadata": {
    "collapsed": false
   },
   "outputs": [
    {
     "data": {
      "text/plain": [
       "14924\t\n"
      ]
     },
     "execution_count": 10,
     "metadata": {},
     "output_type": "execute_result"
    },
    {
     "data": {
      "text/plain": [
       "10472\t\n",
       "2000\t\n",
       "/media/wei/DATA/datasets/vlm/snaps/tb1113/ASL_2008_05_29b/scene20-camera1/2108.jpg\t\n",
       "/media/wei/DATA/datasets/vlm/snaps/lb1113/ASL_2008_02_01/scene11-camera1/0778.jpg\t\n"
      ]
     },
     "execution_count": 10,
     "metadata": {},
     "output_type": "execute_result"
    }
   ],
   "source": [
    "print(#stored.validation_set)\n",
    "local ind = {}\n",
    "for i =1, #stored.validation_set do\n",
    "    ind[#ind+1] = i\n",
    "end\n",
    "shuffle(ind)\n",
    "print(ind[1])\n",
    "\n",
    "local val_num = 2000\n",
    "\n",
    "local tiny_valset = {}\n",
    "for i = 1, val_num do\n",
    "    tiny_valset[#tiny_valset+1] = stored.validation_set[i]\n",
    "end\n",
    "\n",
    "print(#tiny_valset)\n",
    "print(tiny_valset[1])\n",
    "print(tiny_valset[2])\n",
    "\n",
    "local fn = string.format('ASL_det_test_%dval.t7', val_num)\n",
    "local tiny_valset_path = ASL_ANNO_DIR..fn\n",
    "save_obj(\n",
    "    tiny_valset_path,\n",
    "    {\n",
    "      dataset_name = stored.dataset_name,\n",
    "      ground_truth = stored.ground_truth,\n",
    "      training_set = stored.trainset,\n",
    "      validation_set = tiny_valset,\n",
    "      class_names = stored.class_names,\n",
    "      class_index = stored.class_index,\n",
    "      background_files = stored.background_files\n",
    "    }\n",
    ")\n"
   ]
  }
 ],
 "metadata": {
  "kernelspec": {
   "display_name": "iTorch",
   "language": "lua",
   "name": "itorch"
  },
  "language_info": {
   "name": "lua",
   "version": "5.1"
  }
 },
 "nbformat": 4,
 "nbformat_minor": 0
}
