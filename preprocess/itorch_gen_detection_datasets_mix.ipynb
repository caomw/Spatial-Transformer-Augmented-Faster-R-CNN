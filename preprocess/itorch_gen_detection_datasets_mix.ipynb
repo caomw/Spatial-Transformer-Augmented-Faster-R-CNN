{
 "cells": [
  {
   "cell_type": "code",
   "execution_count": 1,
   "metadata": {
    "collapsed": false
   },
   "outputs": [],
   "source": [
    "local torch = require 'torch'\n",
    "require 'hdf5'\n",
    "require 'image'\n",
    "require 'utilities'\n",
    "require 'Rect' \n",
    "require 'lfs'\n",
    "require 'LuaXML'\n",
    "\n",
    "ASL_BASE_DIR = '/media/wei/DATA/datasets/vlm/snaps/'\n",
    "ASL_ANNO_DIR = '/media/wei/DATA/datasets/vlm/annotations/'\n",
    "\n",
    "img_size = {}\n",
    "img_size['H'] = 58\n",
    "img_size['W'] = 58\n",
    "\n",
    "ground_truth = {}\n",
    "\n",
    "class_names = {}\n",
    "class_names[1] = 'Hand'\n",
    "class_index = {}\n",
    "class_index['Hand'] = 1"
   ]
  },
  {
   "cell_type": "code",
   "execution_count": 2,
   "metadata": {
    "collapsed": true
   },
   "outputs": [],
   "source": [
    "stored = load_obj(ASL_ANNO_DIR..'ASL_det_final.t7')"
   ]
  },
  {
   "cell_type": "code",
   "execution_count": 3,
   "metadata": {
    "collapsed": false
   },
   "outputs": [
    {
     "data": {
      "text/plain": [
       "26827\t\n"
      ]
     },
     "execution_count": 3,
     "metadata": {},
     "output_type": "execute_result"
    }
   ],
   "source": [
    "local ind = {}\n",
    "for i =1, #stored.validation_set do\n",
    "    ind[#ind+1] = i\n",
    "end\n",
    "shuffle(ind)\n",
    "\n",
    "gb_ind = {}\n",
    "for i = 1, math.floor(#stored.validation_set) do\n",
    "    gb_ind[#gb_ind+1] = ind[i]\n",
    "end\n",
    "print(#gb_ind)"
   ]
  },
  {
   "cell_type": "code",
   "execution_count": 4,
   "metadata": {
    "collapsed": false
   },
   "outputs": [
    {
     "data": {
      "text/plain": [
       "74618\t\n"
      ]
     },
     "execution_count": 4,
     "metadata": {},
     "output_type": "execute_result"
    }
   ],
   "source": [
    "local ind = {}\n",
    "for i =1, #stored.training_set do\n",
    "    ind[#ind+1] = i\n",
    "end\n",
    "shuffle(ind)\n",
    "\n",
    "tb_lb_ind = {}\n",
    "for i = 1, math.floor(#stored.training_set) do\n",
    "    tb_lb_ind[#tb_lb_ind+1] = ind[i]\n",
    "end\n",
    "print(#tb_lb_ind)"
   ]
  },
  {
   "cell_type": "code",
   "execution_count": 5,
   "metadata": {
    "collapsed": false
   },
   "outputs": [
    {
     "data": {
      "text/plain": [
       "8000\t\n",
       "2000\t\n"
      ]
     },
     "execution_count": 5,
     "metadata": {},
     "output_type": "execute_result"
    }
   ],
   "source": [
    "--Take 10,000 images totally from lb+tb+gb\n",
    "-- 6,000 from gb, 4,000 from lb+tb\n",
    "-- Split into train and test with ratio 0.8:0.2\n",
    "-- i.e., trainset: 4800 from gb, 3200 from lb+tb\n",
    "--       testset: 1200 from gb, 800 from lb+tb\n",
    "\n",
    "trainset = {}\n",
    "valset = {}\n",
    "for i = 1, 6000 do\n",
    "    if i <= 4800 then\n",
    "        trainset[#trainset+1] = stored.validation_set[gb_ind[i]]\n",
    "    else\n",
    "        valset[#valset+1] = stored.validation_set[gb_ind[i]]\n",
    "    end\n",
    "end\n",
    "\n",
    "for i = 1, 4000 do\n",
    "    if i <= 3200 then\n",
    "        trainset[#trainset+1] = stored.training_set[tb_lb_ind[i]]\n",
    "    else\n",
    "        valset[#valset+1] = stored.training_set[tb_lb_ind[i]]\n",
    "    end \n",
    "end\n",
    "\n",
    "print(#trainset)\n",
    "print(#valset)"
   ]
  },
  {
   "cell_type": "code",
   "execution_count": 6,
   "metadata": {
    "collapsed": false
   },
   "outputs": [
    {
     "data": {
      "text/plain": [
       "/media/wei/DATA/datasets/vlm/snaps/gb1113/l/looks_5hs/0061.jpg\t\n",
       "/media/wei/DATA/datasets/vlm/snaps/tb1113/ASL_2008_05_12a/scene8-camera1/0370.jpg\t\n",
       "/media/wei/DATA/datasets/vlm/snaps/gb1113/i/inform_all/0035.jpg\t\n",
       "/media/wei/DATA/datasets/vlm/snaps/tb1113/ASL_2008_05_12a/scene44-camera1/2949.jpg\t\n"
      ]
     },
     "execution_count": 6,
     "metadata": {},
     "output_type": "execute_result"
    }
   ],
   "source": [
    "-- Shuffle trainset and testset again\n",
    "print(trainset[1])\n",
    "shuffle_n(trainset, #trainset)\n",
    "print(trainset[1])\n",
    "\n",
    "print(valset[1])\n",
    "shuffle_n(valset, #valset)\n",
    "print(valset[1])"
   ]
  },
  {
   "cell_type": "code",
   "execution_count": 7,
   "metadata": {
    "collapsed": false
   },
   "outputs": [
    {
     "data": {
      "text/plain": [
       "\n"
      ]
     },
     "execution_count": 7,
     "metadata": {},
     "output_type": "execute_result"
    }
   ],
   "source": [
    "save_obj(\n",
    "    ASL_ANNO_DIR..'ASL_det_mix.t7',\n",
    "    {\n",
    "      dataset_name = stored.dataset_name,\n",
    "      ground_truth = stored.ground_truth,\n",
    "      training_set = trainset,\n",
    "      validation_set = valset,\n",
    "      class_names = stored.class_names,\n",
    "      class_index = stored.class_index,\n",
    "      background_files = stored.background_files\n",
    "    }\n",
    ")"
   ]
  },
  {
   "cell_type": "code",
   "execution_count": 9,
   "metadata": {
    "collapsed": false
   },
   "outputs": [
    {
     "data": {
      "text/plain": [
       "test/eval10.txt\t\n"
      ]
     },
     "execution_count": 9,
     "metadata": {},
     "output_type": "execute_result"
    }
   ],
   "source": [
    "t1 = 'test/'\n",
    "tmp = string.format((t1..'eval%d.txt'), 10)\n",
    "print(tmp)"
   ]
  }
 ],
 "metadata": {
  "kernelspec": {
   "display_name": "iTorch",
   "language": "lua",
   "name": "itorch"
  },
  "language_info": {
   "name": "lua",
   "version": "5.1"
  }
 },
 "nbformat": 4,
 "nbformat_minor": 0
}
