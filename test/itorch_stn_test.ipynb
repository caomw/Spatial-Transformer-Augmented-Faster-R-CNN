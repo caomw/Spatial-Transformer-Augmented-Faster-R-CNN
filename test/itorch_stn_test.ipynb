{
 "cells": [
  {
   "cell_type": "code",
   "execution_count": 2,
   "metadata": {
    "collapsed": false
   },
   "outputs": [
    {
     "ename": "[string \"local torch = require 'torch'...\"]:22: attempt to index local 'jac' (a nil value)\nstack traceback:\n\t[string \"local torch = require 'torch'...\"]:22: in main chunk\n\t[C]: in function 'xpcall'\n\t/home/wei/torch/install/share/lua/5.1/itorch/main.lua:209: in function </home/wei/torch/install/share/lua/5.1/itorch/main.lua:173>\n\t/home/wei/torch/install/share/lua/5.1/lzmq/poller.lua:75: in function 'poll'\n\t/home/wei/torch/install/share/lua/5.1/lzmq/impl/loop.lua:307: in function 'poll'\n\t/home/wei/torch/install/share/lua/5.1/lzmq/impl/loop.lua:325: in function 'sleep_ex'\n\t/home/wei/torch/install/share/lua/5.1/lzmq/impl/loop.lua:370: in function 'start'\n\t/home/wei/torch/install/share/lua/5.1/itorch/main.lua:381: in main chunk\n\t[C]: in function 'require'\n\t(command line):1: in main chunk\n\t[C]: at 0x00406670",
     "evalue": "",
     "output_type": "error",
     "traceback": [
      "[string \"local torch = require 'torch'...\"]:22: attempt to index local 'jac' (a nil value)\nstack traceback:\n\t[string \"local torch = require 'torch'...\"]:22: in main chunk\n\t[C]: in function 'xpcall'\n\t/home/wei/torch/install/share/lua/5.1/itorch/main.lua:209: in function </home/wei/torch/install/share/lua/5.1/itorch/main.lua:173>\n\t/home/wei/torch/install/share/lua/5.1/lzmq/poller.lua:75: in function 'poll'\n\t/home/wei/torch/install/share/lua/5.1/lzmq/impl/loop.lua:307: in function 'poll'\n\t/home/wei/torch/install/share/lua/5.1/lzmq/impl/loop.lua:325: in function 'sleep_ex'\n\t/home/wei/torch/install/share/lua/5.1/lzmq/impl/loop.lua:370: in function 'start'\n\t/home/wei/torch/install/share/lua/5.1/itorch/main.lua:381: in main chunk\n\t[C]: in function 'require'\n\t(command line):1: in main chunk\n\t[C]: at 0x00406670"
     ]
    }
   ],
   "source": [
    "local torch = require 'torch'\n",
    "require 'nn'\n",
    "require 'stn'\n",
    "require 'cutorch'\n",
    "require 'libstn'\n",
    "require 'libcustn'\n",
    "\n",
    "local jac\n",
    "local sjac\n",
    "\n",
    "useRotation = true\n",
    "useScale = true\n",
    "useTranslation = true\n",
    "\n",
    "local nbNeededParams = 0\n",
    "if useRotation then nbNeededParams = nbNeededParams + 1 end\n",
    "if useScale then nbNeededParams = nbNeededParams + 1 end\n",
    "if useTranslation then nbNeededParams = nbNeededParams + 2 end\n",
    "if nbNeededParams == 0 then nbNeededParams = 6 end -- full affine case\n",
    "\n",
    "local params = torch.zeros(nbNeededParams):uniform()\n",
    "local module = nn.AffineTransformMatrixGenerator(useRotation,useScale,useTranslation)\n",
    "\n",
    "\n",
    "local err = jac.testJacobian(module,params)\n",
    "mytester:assertlt(err,precision, 'error on state for test '..currTest)\n",
    "\n",
    "-- IO\n",
    "local ferr,berr = jac.testIO(module,params)\n",
    "mytester:asserteq(ferr, 0, torch.typename(module) .. ' - i/o forward err for test '..currTest)\n",
    "mytester:asserteq(berr, 0, torch.typename(module) .. ' - i/o backward err for test '..currTest)\n"
   ]
  },
  {
   "cell_type": "code",
   "execution_count": null,
   "metadata": {
    "collapsed": true
   },
   "outputs": [],
   "source": []
  }
 ],
 "metadata": {
  "kernelspec": {
   "display_name": "iTorch",
   "language": "lua",
   "name": "itorch"
  },
  "language_info": {
   "name": "lua",
   "version": "5.1"
  }
 },
 "nbformat": 4,
 "nbformat_minor": 0
}
