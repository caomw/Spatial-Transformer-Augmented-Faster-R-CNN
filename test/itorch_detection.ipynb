{
 "cells": [
  {
   "cell_type": "code",
   "execution_count": null,
   "metadata": {
    "collapsed": true
   },
   "outputs": [],
   "source": [
    "local torch = require 'torch'\n",
    "require 'hdf5'\n",
    "require 'nn'\n",
    "require 'cunn';\n",
    "require 'cutorch';\n",
    "-- require 'cudnn';\n",
    "require 'paths'\n",
    "require 'xlua'    -- xlua provides useful tools, like progress bars\n",
    "-- require 'optim'   -- an optimization package, for online and batch methods\n",
    "require 'image'\n",
    "\n",
    "base_path = '/media/wei/DATA/datasets/vlm/'\n",
    "\n",
    "img_size = {}\n",
    "img_size['H'] = 58\n",
    "img_size['W'] = 58\n",
    "\n"
   ]
  }
 ],
 "metadata": {
  "kernelspec": {
   "display_name": "iTorch",
   "language": "lua",
   "name": "itorch"
  },
  "language_info": {
   "name": "lua",
   "version": "5.1"
  }
 },
 "nbformat": 4,
 "nbformat_minor": 0
}
